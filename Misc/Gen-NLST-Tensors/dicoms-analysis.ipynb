{
 "cells": [
  {
   "cell_type": "code",
   "execution_count": 1,
   "metadata": {},
   "outputs": [],
   "source": [
    "import pandas as pd\n",
    "import json"
   ]
  },
  {
   "cell_type": "code",
   "execution_count": 2,
   "metadata": {},
   "outputs": [
    {
     "name": "stdout",
     "output_type": "stream",
     "text": [
      "TOTAL FRAME COUNT 17417935\n"
     ]
    },
    {
     "data": {
      "text/html": [
       "<div>\n",
       "<style scoped>\n",
       "    .dataframe tbody tr th:only-of-type {\n",
       "        vertical-align: middle;\n",
       "    }\n",
       "\n",
       "    .dataframe tbody tr th {\n",
       "        vertical-align: top;\n",
       "    }\n",
       "\n",
       "    .dataframe thead th {\n",
       "        text-align: right;\n",
       "    }\n",
       "</style>\n",
       "<table border=\"1\" class=\"dataframe\">\n",
       "  <thead>\n",
       "    <tr style=\"text-align: right;\">\n",
       "      <th></th>\n",
       "      <th>filename</th>\n",
       "    </tr>\n",
       "  </thead>\n",
       "  <tbody>\n",
       "    <tr>\n",
       "      <th>0</th>\n",
       "      <td>nlst-bucket/manifest-1709246899312/NLST/100002...</td>\n",
       "    </tr>\n",
       "    <tr>\n",
       "      <th>1</th>\n",
       "      <td>nlst-bucket/manifest-1709246899312/NLST/100002...</td>\n",
       "    </tr>\n",
       "    <tr>\n",
       "      <th>2</th>\n",
       "      <td>nlst-bucket/manifest-1709246899312/NLST/100002...</td>\n",
       "    </tr>\n",
       "    <tr>\n",
       "      <th>3</th>\n",
       "      <td>nlst-bucket/manifest-1709246899312/NLST/100002...</td>\n",
       "    </tr>\n",
       "    <tr>\n",
       "      <th>4</th>\n",
       "      <td>nlst-bucket/manifest-1709246899312/NLST/100002...</td>\n",
       "    </tr>\n",
       "  </tbody>\n",
       "</table>\n",
       "</div>"
      ],
      "text/plain": [
       "                                            filename\n",
       "0  nlst-bucket/manifest-1709246899312/NLST/100002...\n",
       "1  nlst-bucket/manifest-1709246899312/NLST/100002...\n",
       "2  nlst-bucket/manifest-1709246899312/NLST/100002...\n",
       "3  nlst-bucket/manifest-1709246899312/NLST/100002...\n",
       "4  nlst-bucket/manifest-1709246899312/NLST/100002..."
      ]
     },
     "execution_count": 2,
     "metadata": {},
     "output_type": "execute_result"
    }
   ],
   "source": [
    "dfr = pd.read_csv('dicoms.txt', header=None)\n",
    "dfr.columns = ['filename']\n",
    "print(\"TOTAL FRAME COUNT\", len(dfr))\n",
    "dfr.head()"
   ]
  },
  {
   "cell_type": "code",
   "execution_count": 3,
   "metadata": {},
   "outputs": [
    {
     "name": "stdout",
     "output_type": "stream",
     "text": [
      "TOTAL UNIQUE SUBDIR COUNT 171275\n"
     ]
    },
    {
     "data": {
      "text/html": [
       "<div>\n",
       "<style scoped>\n",
       "    .dataframe tbody tr th:only-of-type {\n",
       "        vertical-align: middle;\n",
       "    }\n",
       "\n",
       "    .dataframe tbody tr th {\n",
       "        vertical-align: top;\n",
       "    }\n",
       "\n",
       "    .dataframe thead th {\n",
       "        text-align: right;\n",
       "    }\n",
       "</style>\n",
       "<table border=\"1\" class=\"dataframe\">\n",
       "  <thead>\n",
       "    <tr style=\"text-align: right;\">\n",
       "      <th></th>\n",
       "      <th>root</th>\n",
       "    </tr>\n",
       "  </thead>\n",
       "  <tbody>\n",
       "    <tr>\n",
       "      <th>0</th>\n",
       "      <td>nlst-bucket/manifest-NLST_allCT2/NLST/100002/0...</td>\n",
       "    </tr>\n",
       "    <tr>\n",
       "      <th>1</th>\n",
       "      <td>nlst-bucket/manifest-NLST_allCT2/NLST/100002/0...</td>\n",
       "    </tr>\n",
       "    <tr>\n",
       "      <th>2</th>\n",
       "      <td>nlst-bucket/manifest-NLST_allCT2/NLST/100004/0...</td>\n",
       "    </tr>\n",
       "    <tr>\n",
       "      <th>3</th>\n",
       "      <td>nlst-bucket/manifest-NLST_allCT2/NLST/100004/0...</td>\n",
       "    </tr>\n",
       "    <tr>\n",
       "      <th>4</th>\n",
       "      <td>nlst-bucket/manifest-NLST_allCT2/NLST/100005/0...</td>\n",
       "    </tr>\n",
       "  </tbody>\n",
       "</table>\n",
       "</div>"
      ],
      "text/plain": [
       "                                                root\n",
       "0  nlst-bucket/manifest-NLST_allCT2/NLST/100002/0...\n",
       "1  nlst-bucket/manifest-NLST_allCT2/NLST/100002/0...\n",
       "2  nlst-bucket/manifest-NLST_allCT2/NLST/100004/0...\n",
       "3  nlst-bucket/manifest-NLST_allCT2/NLST/100004/0...\n",
       "4  nlst-bucket/manifest-NLST_allCT2/NLST/100005/0..."
      ]
     },
     "execution_count": 3,
     "metadata": {},
     "output_type": "execute_result"
    }
   ],
   "source": [
    "with open('nlst-dirs.json', 'r') as f:\n",
    "    unique = json.load(f)\n",
    "dfu = pd.DataFrame({'root': unique})\n",
    "print(\"TOTAL UNIQUE SUBDIR COUNT\", len(dfu))\n",
    "dfu.head()"
   ]
  },
  {
   "cell_type": "code",
   "execution_count": 4,
   "metadata": {},
   "outputs": [],
   "source": [
    "dfr['root'] = dfr['filename'].apply(lambda x: '/'.join(x.split('/')[:-1]))"
   ]
  },
  {
   "cell_type": "code",
   "execution_count": 5,
   "metadata": {},
   "outputs": [
    {
     "name": "stdout",
     "output_type": "stream",
     "text": [
      "TOTAL UNIQUE FRAME COUNT 17273745\n"
     ]
    }
   ],
   "source": [
    "df = dfr.merge(dfu)\n",
    "print(\"TOTAL UNIQUE FRAME COUNT\", len(df))"
   ]
  },
  {
   "cell_type": "code",
   "execution_count": 6,
   "metadata": {},
   "outputs": [
    {
     "data": {
      "text/html": [
       "<div>\n",
       "<style scoped>\n",
       "    .dataframe tbody tr th:only-of-type {\n",
       "        vertical-align: middle;\n",
       "    }\n",
       "\n",
       "    .dataframe tbody tr th {\n",
       "        vertical-align: top;\n",
       "    }\n",
       "\n",
       "    .dataframe thead th {\n",
       "        text-align: right;\n",
       "    }\n",
       "</style>\n",
       "<table border=\"1\" class=\"dataframe\">\n",
       "  <thead>\n",
       "    <tr style=\"text-align: right;\">\n",
       "      <th></th>\n",
       "      <th>root</th>\n",
       "      <th>one</th>\n",
       "    </tr>\n",
       "  </thead>\n",
       "  <tbody>\n",
       "    <tr>\n",
       "      <th>0</th>\n",
       "      <td>nlst-bucket/manifest-1709246899312/NLST/100925...</td>\n",
       "      <td>89</td>\n",
       "    </tr>\n",
       "    <tr>\n",
       "      <th>1</th>\n",
       "      <td>nlst-bucket/manifest-NLST_allCT10/NLST/123704/...</td>\n",
       "      <td>59</td>\n",
       "    </tr>\n",
       "    <tr>\n",
       "      <th>2</th>\n",
       "      <td>nlst-bucket/manifest-NLST_allCT10/NLST/123704/...</td>\n",
       "      <td>59</td>\n",
       "    </tr>\n",
       "    <tr>\n",
       "      <th>3</th>\n",
       "      <td>nlst-bucket/manifest-NLST_allCT10/NLST/123704/...</td>\n",
       "      <td>150</td>\n",
       "    </tr>\n",
       "    <tr>\n",
       "      <th>4</th>\n",
       "      <td>nlst-bucket/manifest-NLST_allCT10/NLST/123704/...</td>\n",
       "      <td>3</td>\n",
       "    </tr>\n",
       "  </tbody>\n",
       "</table>\n",
       "</div>"
      ],
      "text/plain": [
       "                                                root  one\n",
       "0  nlst-bucket/manifest-1709246899312/NLST/100925...   89\n",
       "1  nlst-bucket/manifest-NLST_allCT10/NLST/123704/...   59\n",
       "2  nlst-bucket/manifest-NLST_allCT10/NLST/123704/...   59\n",
       "3  nlst-bucket/manifest-NLST_allCT10/NLST/123704/...  150\n",
       "4  nlst-bucket/manifest-NLST_allCT10/NLST/123704/...    3"
      ]
     },
     "execution_count": 6,
     "metadata": {},
     "output_type": "execute_result"
    }
   ],
   "source": [
    "# count of files by dir\n",
    "df['one'] = 1\n",
    "dfc = df[['root', 'one']].groupby('root', as_index=False).sum()\n",
    "dfc.head()"
   ]
  },
  {
   "cell_type": "code",
   "execution_count": 7,
   "metadata": {},
   "outputs": [
    {
     "data": {
      "text/html": [
       "<div>\n",
       "<style scoped>\n",
       "    .dataframe tbody tr th:only-of-type {\n",
       "        vertical-align: middle;\n",
       "    }\n",
       "\n",
       "    .dataframe tbody tr th {\n",
       "        vertical-align: top;\n",
       "    }\n",
       "\n",
       "    .dataframe thead th {\n",
       "        text-align: right;\n",
       "    }\n",
       "</style>\n",
       "<table border=\"1\" class=\"dataframe\">\n",
       "  <thead>\n",
       "    <tr style=\"text-align: right;\">\n",
       "      <th></th>\n",
       "      <th>one</th>\n",
       "      <th>cnt</th>\n",
       "    </tr>\n",
       "  </thead>\n",
       "  <tbody>\n",
       "    <tr>\n",
       "      <th>0</th>\n",
       "      <td>1</td>\n",
       "      <td>21736</td>\n",
       "    </tr>\n",
       "    <tr>\n",
       "      <th>1</th>\n",
       "      <td>2</td>\n",
       "      <td>33871</td>\n",
       "    </tr>\n",
       "    <tr>\n",
       "      <th>2</th>\n",
       "      <td>3</td>\n",
       "      <td>3761</td>\n",
       "    </tr>\n",
       "    <tr>\n",
       "      <th>3</th>\n",
       "      <td>4</td>\n",
       "      <td>134</td>\n",
       "    </tr>\n",
       "    <tr>\n",
       "      <th>4</th>\n",
       "      <td>5</td>\n",
       "      <td>49</td>\n",
       "    </tr>\n",
       "  </tbody>\n",
       "</table>\n",
       "</div>"
      ],
      "text/plain": [
       "   one    cnt\n",
       "0    1  21736\n",
       "1    2  33871\n",
       "2    3   3761\n",
       "3    4    134\n",
       "4    5     49"
      ]
     },
     "execution_count": 7,
     "metadata": {},
     "output_type": "execute_result"
    }
   ],
   "source": [
    "# Counts of dirs (cnt) by counts of files (one)\n",
    "dff = dfc[['one']].copy()\n",
    "dff['cnt'] = 1\n",
    "dffc = dff.groupby('one', as_index=False).sum()\n",
    "dffc.head()"
   ]
  },
  {
   "cell_type": "code",
   "execution_count": 8,
   "metadata": {},
   "outputs": [
    {
     "data": {
      "text/plain": [
       "[<matplotlib.lines.Line2D at 0x7f5d03ddd010>]"
      ]
     },
     "execution_count": 8,
     "metadata": {},
     "output_type": "execute_result"
    },
    {
     "data": {
      "image/png": "[encoded data removed]",
      "text/plain": [
       "<Figure size 1500x500 with 1 Axes>"
      ]
     },
     "metadata": {},
     "output_type": "display_data"
    }
   ],
   "source": [
    "import matplotlib.pyplot as plt\n",
    "import numpy as np\n",
    "\n",
    "plt.figure(figsize = (15, 5))\n",
    "plt.xticks(np.arange(0, 800, 50))\n",
    "dffc4 = dffc[dffc['one'] >= 4]\n",
    "plt.plot(dffc4['one'], dffc4['cnt'])"
   ]
  },
  {
   "cell_type": "code",
   "execution_count": 9,
   "metadata": {},
   "outputs": [
    {
     "name": "stdout",
     "output_type": "stream",
     "text": [
      "Preserving 0.961 of frames\n"
     ]
    }
   ],
   "source": [
    "THRESH = 96\n",
    "ratio = round(dffc[dffc.cnt >= THRESH]['cnt'].sum() / dffc[dffc.cnt >= 1]['cnt'].sum(), 3)\n",
    "print(\"Preserving\", ratio, \"of frames\")"
   ]
  },
  {
   "cell_type": "code",
   "execution_count": 16,
   "metadata": {},
   "outputs": [
    {
     "data": {
      "text/html": [
       "<div>\n",
       "<style scoped>\n",
       "    .dataframe tbody tr th:only-of-type {\n",
       "        vertical-align: middle;\n",
       "    }\n",
       "\n",
       "    .dataframe tbody tr th {\n",
       "        vertical-align: top;\n",
       "    }\n",
       "\n",
       "    .dataframe thead th {\n",
       "        text-align: right;\n",
       "    }\n",
       "</style>\n",
       "<table border=\"1\" class=\"dataframe\">\n",
       "  <thead>\n",
       "    <tr style=\"text-align: right;\">\n",
       "      <th></th>\n",
       "      <th>root_dir</th>\n",
       "      <th>image_count</th>\n",
       "    </tr>\n",
       "  </thead>\n",
       "  <tbody>\n",
       "    <tr>\n",
       "      <th>3</th>\n",
       "      <td>manifest-NLST_allCT10/NLST/123704/01-02-1999-N...</td>\n",
       "      <td>150</td>\n",
       "    </tr>\n",
       "    <tr>\n",
       "      <th>8</th>\n",
       "      <td>manifest-NLST_allCT10/NLST/123704/01-02-2000-N...</td>\n",
       "      <td>153</td>\n",
       "    </tr>\n",
       "    <tr>\n",
       "      <th>10</th>\n",
       "      <td>manifest-NLST_allCT10/NLST/123704/01-02-2000-N...</td>\n",
       "      <td>153</td>\n",
       "    </tr>\n",
       "    <tr>\n",
       "      <th>15</th>\n",
       "      <td>manifest-NLST_allCT10/NLST/123704/01-02-2001-N...</td>\n",
       "      <td>174</td>\n",
       "    </tr>\n",
       "    <tr>\n",
       "      <th>17</th>\n",
       "      <td>manifest-NLST_allCT10/NLST/123704/01-02-2001-N...</td>\n",
       "      <td>174</td>\n",
       "    </tr>\n",
       "  </tbody>\n",
       "</table>\n",
       "</div>"
      ],
      "text/plain": [
       "                                             root_dir  image_count\n",
       "3   manifest-NLST_allCT10/NLST/123704/01-02-1999-N...          150\n",
       "8   manifest-NLST_allCT10/NLST/123704/01-02-2000-N...          153\n",
       "10  manifest-NLST_allCT10/NLST/123704/01-02-2000-N...          153\n",
       "15  manifest-NLST_allCT10/NLST/123704/01-02-2001-N...          174\n",
       "17  manifest-NLST_allCT10/NLST/123704/01-02-2001-N...          174"
      ]
     },
     "execution_count": 16,
     "metadata": {},
     "output_type": "execute_result"
    }
   ],
   "source": [
    "dfct = dfc[dfc.one >= THRESH].copy()\n",
    "dfct.head()\n",
    "dfct.columns = ['root_dir', 'image_count']\n",
    "dfct['root_dir'] = dfct['root_dir'].apply(lambda x: '/'.join(x.split('/')[1:]))\n",
    "dfct.to_csv(f'taken-dirs-{THRESH}.csv', index=False)\n",
    "dfct.head()"
   ]
  },
  {
   "cell_type": "code",
   "execution_count": 11,
   "metadata": {},
   "outputs": [
    {
     "name": "stdout",
     "output_type": "stream",
     "text": [
      "['nlst-bucket/manifest-NLST_allCT10/NLST/123704/01-02-1999-NLST-LSS-55610/5.000000-0OPASESEN16B50f406212060.040.0null-39086',\n",
      " 'nlst-bucket/manifest-NLST_allCT10/NLST/123704/01-02-2000-NLST-LSS-25506/5.000000-1OPASESEN16B30f378212045.030.0null-73279',\n",
      " 'nlst-bucket/manifest-NLST_allCT10/NLST/123704/01-02-2000-NLST-LSS-25506/7.000000-1OPASESEN16B50f378212045.030.0null-61855',\n",
      " 'nlst-bucket/manifest-NLST_allCT10/NLST/123704/01-02-2001-NLST-LSS-34813/5.000000-2OPASESEN16B30f372212045.030.0null-09415']\n"
     ]
    }
   ],
   "source": [
    "from pprint import pprint\n",
    "pprint(list(dfct['root_dir'][:4]))"
   ]
  },
  {
   "cell_type": "code",
   "execution_count": 12,
   "metadata": {},
   "outputs": [
    {
     "name": "stdout",
     "output_type": "stream",
     "text": [
      "WILL TAKE 98233 SCANS, 57 PERCENTAGE\n"
     ]
    }
   ],
   "source": [
    "print(\"WILL TAKE\", len(dfct), \"SCANS,\", round(len(dfct) / dffc.cnt.sum() * 100), \"PERCENTAGE\")"
   ]
  },
  {
   "cell_type": "code",
   "execution_count": null,
   "metadata": {},
   "outputs": [],
   "source": []
  }
 ],
 "metadata": {
  "kernelspec": {
   "display_name": "fm_upp",
   "language": "python",
   "name": "python3"
  },
  "language_info": {
   "codemirror_mode": {
    "name": "ipython",
    "version": 3
   },
   "file_extension": ".py",
   "mimetype": "text/x-python",
   "name": "python",
   "nbconvert_exporter": "python",
   "pygments_lexer": "ipython3",
   "version": "3.11.11"
  }
 },
 "nbformat": 4,
 "nbformat_minor": 2
}
