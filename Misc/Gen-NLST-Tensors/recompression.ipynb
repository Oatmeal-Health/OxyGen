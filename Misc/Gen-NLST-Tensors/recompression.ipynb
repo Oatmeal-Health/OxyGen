{
 "cells": [
  {
   "cell_type": "code",
   "execution_count": 2,
   "metadata": {},
   "outputs": [],
   "source": [
    "from glob import glob\n",
    "import numcodecs"
   ]
  },
  {
   "cell_type": "code",
   "execution_count": null,
   "metadata": {},
   "outputs": [],
   "source": [
    "# Save some tensors in ./Tensors prior to this\n",
    "filenames = glob('Tensors/*.blosc')\n",
    "compressor = numcodecs.Blosc(cname='zstd', clevel=5, shuffle=numcodecs.Blosc.SHUFFLE)\n",
    "\n",
    "# try decompressing and compressing with different level\n",
    "for filename in filenames:\n",
    "    with open(filename, 'rb') as f:\n",
    "        decoded = compressor.decode(f.read())\n",
    "    name = f'{filename}.blosc'\n",
    "    with open(name, \"wb\") as f:\n",
    "        f.write(compressor.encode(decoded))"
   ]
  },
  {
   "cell_type": "code",
   "execution_count": 5,
   "metadata": {},
   "outputs": [],
   "source": [
    "# Try reading with a different level -- 0.6 seconds per 20 files (440MB)\n",
    "filenames = glob('Tensors/*.blosc')\n",
    "compressor = numcodecs.Blosc(cname='zstd', clevel=5, shuffle=numcodecs.Blosc.SHUFFLE)\n",
    "for filename in filenames:\n",
    "    with open(filename, 'rb') as f:\n",
    "        decoded = compressor.decode(f.read())"
   ]
  },
  {
   "cell_type": "code",
   "execution_count": 7,
   "metadata": {},
   "outputs": [],
   "source": [
    "# Try reading the less compressed (460MB) -- still 0.6 seconds per 20 files\n",
    "filenames = glob('TTensors/*.blosc')\n",
    "compressor = numcodecs.Blosc(cname='zstd', clevel=9, shuffle=numcodecs.Blosc.SHUFFLE)\n",
    "for filename in filenames:\n",
    "    with open(filename, 'rb') as f:\n",
    "        decoded = compressor.decode(f.read())"
   ]
  },
  {
   "cell_type": "code",
   "execution_count": 8,
   "metadata": {},
   "outputs": [],
   "source": [
    "filenames = glob('Tensors/*.blosc')\n",
    "compressor = numcodecs.Blosc(cname='zstd', clevel=5, shuffle=numcodecs.Blosc.SHUFFLE)\n",
    "for filename in filenames:\n",
    "    with open(filename, 'rb') as f:\n",
    "        decoded = compressor.decode(f.read())\n",
    "    name = f'{filename}.pt'\n",
    "    with open(name, \"wb\") as f:\n",
    "        f.write(decoded)"
   ]
  },
  {
   "cell_type": "code",
   "execution_count": null,
   "metadata": {},
   "outputs": [],
   "source": []
  }
 ],
 "metadata": {
  "kernelspec": {
   "display_name": "fm_su",
   "language": "python",
   "name": "python3"
  },
  "language_info": {
   "codemirror_mode": {
    "name": "ipython",
    "version": 3
   },
   "file_extension": ".py",
   "mimetype": "text/x-python",
   "name": "python",
   "nbconvert_exporter": "python",
   "pygments_lexer": "ipython3",
   "version": "3.11.11"
  }
 },
 "nbformat": 4,
 "nbformat_minor": 2
}
